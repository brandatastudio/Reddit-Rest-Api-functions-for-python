{
 "cells": [
  {
   "cell_type": "markdown",
   "metadata": {},
   "source": [
    "# Introduction to the library"
   ]
  },
  {
   "cell_type": "code",
   "execution_count": 1,
   "metadata": {},
   "outputs": [],
   "source": [
    "import requests\n",
    "import json\n",
    "import os"
   ]
  },
  {
   "cell_type": "markdown",
   "metadata": {},
   "source": [
    "#The cool thing about this library, is that it does not need any api keys or user authentification. No weird libraries to be installed.\n",
    "This are a couple of small  but powerfull functions for text analysis and topic studying using the reddit rest api.\n",
    "THis does not work using the python reddit wrapper, be aware. \n",
    "\n",
    "List of functions you will find: \n",
    "- Getting subreddit names, for a query \n",
    "-Getting subreddit posts, for a subredit name.\n",
    "-Get comments for a subredit post id. \n",
    "\n",
    "\n",
    "Python Libraries you will usually need:\n",
    "pandas as pd\n",
    "json\n",
    "requests\n",
    "\n",
    "\n",
    "Here you have the link to reddits oficial api \n",
    "https://www.reddit.com/dev/api/"
   ]
  }
 ],
 "metadata": {
  "kernelspec": {
   "display_name": "Python 3",
   "language": "python",
   "name": "python3"
  },
  "language_info": {
   "codemirror_mode": {
    "name": "ipython",
    "version": 3
   },
   "file_extension": ".py",
   "mimetype": "text/x-python",
   "name": "python",
   "nbconvert_exporter": "python",
   "pygments_lexer": "ipython3",
   "version": "3.6.5"
  }
 },
 "nbformat": 4,
 "nbformat_minor": 2
}
